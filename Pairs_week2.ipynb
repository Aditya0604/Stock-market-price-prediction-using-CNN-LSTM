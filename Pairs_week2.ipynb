{
  "cells": [
    {
      "cell_type": "markdown",
      "metadata": {
        "id": "dBmd8kyLfMIg"
      },
      "source": [
        "## Paired Switching\n",
        "\n",
        "The idea behind this strategy is that if the assets are negatively correlated, then a traditional mixed portfolio might lead to a lower return than the return for the individual assets.\n",
        "\n",
        "We periodically compute the Co-relation Coefficients' Matrix and choose pair of stocks which have the most negative co-relations and trade in them. The basic idea being that if one of them would fall, then the other would rise and hence, we must switch between them!\n",
        "\n",
        "We need a re-balancing period ,i.e. The time after which we would be again calculating the co-relations and taking a different pair of stocks : **T**\n",
        "\n",
        "We would also need to keep switching between these selected stocks in a pair at a certain interval of time : **P**\n",
        "\n",
        "Next, We need to specify how many such pairs would we be trading in : **M**\n",
        "\n",
        "The Fraction of the total balance we would be investing on every turn : **R**\n",
        "\n",
        "The Brokerage Fee as a fraction of the total transaction amount : **F**\n",
        "\n"
      ]
    },
    {
      "cell_type": "code",
      "execution_count": null,
      "metadata": {
        "id": "KhmpNcaUextd"
      },
      "outputs": [],
      "source": [
        "import numpy as np\n",
        "import pandas as pd\n",
        "import datetime\n",
        "import matplotlib.pyplot as plt\n",
        "import seaborn as sns\n",
        "\n",
        "T = 60\n",
        "P = 7\n",
        "M = 4\n",
        "R = 0.8\n",
        "F = 0.0005"
      ]
    },
    {
      "cell_type": "markdown",
      "metadata": {
        "id": "6zepnFA0xjvI"
      },
      "source": [
        "### Few Upcoming Functions(GetData and PartitionData) would be similar to the ones you encountered in the Momentum Assignment (Feel free to Copy-Paste your code from there!)"
      ]
    },
    {
      "cell_type": "markdown",
      "metadata": {
        "id": "YZQH1NuRyGLy"
      },
      "source": [
        "In the file DATA.csv , which we had uploaded in our repository, we have prices of 30 firms enlisted in S & P 500 Index (Apple, IBM, Cisco, Walmart and the like!) from 2nd January 2009 to 17th August 2020.\n",
        "\n",
        "For our purposes, We'll only be requiring certain columns. On an honest note, Just getting the Columns on Ticker, Date and Adjusted Closing Price would do the job, but if you want, you may take Opening Price as well.\n",
        "\n",
        "Read up about the [pandas.read_csv](https://pandas.pydata.org/docs/reference/api/pandas.read_csv.html) function from here, and figure out how you'll use it to do the job (You don't need all the columns!) "
      ]
    },
    {
      "cell_type": "code",
      "execution_count": null,
      "metadata": {
        "id": "Ka_L9Ne6yOGY"
      },
      "outputs": [],
      "source": [
        "data_path = '/content/DATA.csv'\n",
        "def GetData(NameOfFile):\n",
        "  #START CODE HERE\n",
        "  df = pd.read_csv(NameOfFile, usecols = ['ind','datadate','tic','adjcp','rsi'])\n",
        "\n",
        "\n",
        "\n",
        "\n",
        "  return df  # pd.DataFrame Object"
      ]
    },
    {
      "cell_type": "markdown",
      "metadata": {
        "id": "xJILaZUYySQW"
      },
      "source": [
        "To aid Data-Manipulation, it would be beneficial, if we split the DataFrame into many small parts each corresponding to the data corresponding to the 30 Tickers on a particular date. These small parts could then be stored in a list.\n",
        "\n",
        "We would also be needing to remember which date is at what index, so that we can use that later. "
      ]
    },
    {
      "cell_type": "code",
      "execution_count": null,
      "metadata": {
        "id": "I0jUbPe_yiGU"
      },
      "outputs": [],
      "source": [
        "Data=GetData(data_path)\n",
        "def PartitionData():\n",
        "  \n",
        "  DateToIndex = {}\n",
        "  list = []\n",
        "\n",
        "  dates = Data['datadate'].unique()\n",
        "  i=0\n",
        "  for date in dates:\n",
        "    \n",
        "    df = Data[Data['datadate'] == date]\n",
        "    list.append(df)\n",
        "    DateToIndex[date] = i\n",
        "    i += 1\n",
        "\n",
        "\n",
        "\n",
        "  return list, DateToIndex    # List containing of the Data Partitioned according to Date, and the Dictionary mapping Dates to their index in the list "
      ]
    },
    {
      "cell_type": "code",
      "source": [
        "PartitionData()[1]"
      ],
      "metadata": {
        "id": "rYvr-_NrqHuJ"
      },
      "execution_count": null,
      "outputs": []
    },
    {
      "cell_type": "code",
      "source": [
        "try_list,try_dict = PartitionData()"
      ],
      "metadata": {
        "id": "LblHroXrgwPl"
      },
      "execution_count": null,
      "outputs": []
    },
    {
      "cell_type": "code",
      "source": [
        "try_list[try_dict[20090102]]"
      ],
      "metadata": {
        "id": "BW7VrJTLhDc9"
      },
      "execution_count": null,
      "outputs": []
    },
    {
      "cell_type": "code",
      "source": [
        "try_dict"
      ],
      "metadata": {
        "id": "5WKMiLIEhDSr"
      },
      "execution_count": null,
      "outputs": []
    },
    {
      "cell_type": "markdown",
      "metadata": {
        "id": "abBu6bdrqpcD"
      },
      "source": [
        "Now, We need a function which takes as input a pair of stocks (as indices in range 0-29), Today's date,  alongwith the Partitioned DataFrames which will tell us which of the two stocks has a better outlook for the future, and we'll simply move all our Money from one of them to the other. \n",
        "\n",
        "This will be done once in every **P** trading sessions.\n",
        "\n",
        "You could choose between the two stocks in a number of ways, the simplest of which can be what you did in the last assignment, the Momentum Indicator (i.e. Take the difference between the prices of the stocks in a certain number of days and do your deed! Remember this number of days **N** must be <= **T**)\n",
        "\n",
        "You may also use other indicators like [RSI](https://www.investopedia.com/terms/r/rsi.asp), [Stochs](https://www.investopedia.com/terms/s/stochasticoscillator.asp), [MACD](https://www.investopedia.com/terms/m/macd.asp) or anything else! (If you decide to use MACD or RSI, you could either implement other functions to calculate them or simply change your ParitionData() function to get the MACD and RSI values as they are already stored there for you!)\n",
        "\n",
        "You need not worry about getting the nearest dates (or dates at all) in this case, because all you care about is co-relations in long term and growth in short-term so it doesn't matter if you're ahead or behind a few days!\n",
        "\n",
        "'today' would be an index(integer), i.e. an index on the PartitionedDataFrames list denoting where we are at currently!\n",
        "\n",
        "Also, as you may have figured it out yourself, while DataFrames are great for Data Handling and small statistical calculations, They aren't so for big calculations as the Numpy Library has both a richer variety of functions for such manipulations and is also more efficient!\n"
      ]
    },
    {
      "cell_type": "code",
      "execution_count": null,
      "metadata": {
        "id": "hUViRxVXwrB5"
      },
      "outputs": [],
      "source": [
        "def Switch(firstStock, SecondStock, today ,PartitionedDataFrames):\n",
        "  df=pd.DataFrame(PartitionedDataFrames[today])  \n",
        "  df_new=df.loc[(df['tic']==firstStock) | (df['tic']==SecondStock)]     #only getting the required tics to compare them\n",
        "  df_new.sort_values(by=['rsi'],ascending=False)    #using the rsi indicator\n",
        "  df_new=np.array(df_new)\n",
        "  temp=[int(df_new[0,0]%30),float(df_new[0,4])]\n",
        "\n",
        "\n",
        "\n",
        "\n",
        "  return temp      #One of two(firstStock/SecondStock) depending on which should grow more in the future."
      ]
    },
    {
      "cell_type": "code",
      "source": [
        "#ans = Switch('CAT','AAPL',20090102,try_list)"
      ],
      "metadata": {
        "id": "GXHKSvBnmdsZ"
      },
      "execution_count": null,
      "outputs": []
    },
    {
      "cell_type": "code",
      "source": [
        "#ans"
      ],
      "metadata": {
        "id": "NYS8-r_Zq4_J"
      },
      "execution_count": null,
      "outputs": []
    },
    {
      "cell_type": "code",
      "source": [
        "def latest_prices(today):\n",
        "    x,y=PartitionData()\n",
        "    latest_date='20090102'\n",
        "    for item in y.keys():\n",
        "        if(int(item)<int(today)):\n",
        "            latest_date=item\n",
        "    index=y[int(latest_date)]\n",
        "    a=np.array(list(x[index]['adjcp']))\n",
        "    \n",
        "    \n",
        "    return a"
      ],
      "metadata": {
        "id": "j1M7mfcw2BlF"
      },
      "execution_count": null,
      "outputs": []
    },
    {
      "cell_type": "code",
      "source": [
        "def negcorr(today):\n",
        "    a,b=PartitionData()\n",
        "    a=np.array(a)\n",
        "    columns=a[0,:,2]\n",
        "    best=list(a[:today,:,3])\n",
        "    best=pd.DataFrame(best)\n",
        "    best.columns=[columns]\n",
        "    star=best.corr()\n",
        "    star=np.array(star)\n",
        "    dicc={}\n",
        "    for i in range(30):\n",
        "        for j in range(30):\n",
        "            if(star[i,j]<0):\n",
        "                dicc[star[i][j]]=(i,j)\n",
        "    l=list(dicc.items())\n",
        "    l.sort()\n",
        "    l=list(dict(l).values())\n",
        "    var_1=[]\n",
        "    var_2=l.copy()\n",
        "    for item in range(len(l)):\n",
        "        for subitem in l[item]:\n",
        "            if (subitem in var_1):\n",
        "                var_2.remove(l[item])\n",
        "                break\n",
        "            var_1.append(subitem)\n",
        "    l=var_2.copy()                \n",
        "    minn=min(M,len(l))\n",
        "    final_list=l[:minn]\n",
        "\n",
        "    return final_list"
      ],
      "metadata": {
        "id": "z2oijdhC6Qfy"
      },
      "execution_count": null,
      "outputs": []
    },
    {
      "cell_type": "markdown",
      "metadata": {
        "id": "CBZqJ_CszZbL"
      },
      "source": [
        "Now, We need something to simulate our [Portfolio](https://www.investopedia.com/terms/p/portfolio.asp). In order to do that we need a class, which has certain  basic features and functionalities.\n",
        "\n",
        "(Again some of the functions here, would be same as the previous assignment, so feel free to Copy-Paste)\n",
        "\n",
        "Features : \n",
        "\n",
        "\n",
        "1.   Your Initial Balance\n",
        "2.   Your Current Balance (Money which isn't invested!)\n",
        "3.   A list(/any other container) storing the number of stocks of each ticker currently in possession. (Numpy Array prefered)\n",
        "4.   Most recent prices of all the stocks (As a Numpy array)\n",
        "5.   A list of **M** or less(as it might be that less than **M** stocks are negatively co-related) Tuples of indices (i,j) where i and j are the indices (from 0-29) of stocks which are negatively co-related.\n",
        "\n",
        "Functionalities: \n",
        "\n",
        "\n",
        "\n",
        "1.   Calculating current Net Worth (Balance+Total Evaluation of all Stocks owned!) \n",
        "2.   Buying a Particular Stock (Keep the Transaction fee in mind!)\n",
        "3.   Selling a particular Stock whole (Keep the Transaction Fee in mind!)\n",
        "4.   Change Pairs (**T** period intervals) (Takes PartitionedDataFrame, DateT and today's date as input)\n",
        "5.   Rebalance Portfolio (**P** period intervals) (Takes O)\n",
        "6.   Function to change the value of most recent prices stored (Takes Numpy array as input)\n",
        "\n",
        "\n",
        "You may want to know about Numpy's Corrcoef ([np.corrcoef](https://numpy.org/doc/stable/reference/generated/numpy.corrcoef.html)) function!\n"
      ]
    },
    {
      "cell_type": "code",
      "execution_count": null,
      "metadata": {
        "id": "SFJOHvgS1aq0"
      },
      "outputs": [],
      "source": [
        "class PortFolio:\n",
        "  def __init__(self,initial_balance):\n",
        "    self.ib = initial_balance\n",
        "    self.cb=self.ib\n",
        "    self.arr_stocks=np.zeros(30)\n",
        "    x,y=PartitionData()        \n",
        "    self.lp=latest_prices(list(y.keys())[T])\n",
        "    self.stock_pairs=None \n",
        "    #Initialize all variables\n",
        "\n",
        "  def SellStock(self, index):\n",
        "    self.cb=self.cb+((1-F)*float((self.arr_stocks[index])*self.lp[index]))\n",
        "    self.arr_stocks[index]=0\n",
        "    #index : The index of the Stock to sell (0-29)\n",
        "  \n",
        "  def BuyStock(self,index, number):\n",
        "    self.cb=self.cb-((1+F)*(number*float(self.lp[index])))\n",
        "    self.arr_stocks[index]+=number\n",
        "    #index : The index of the Stock to buy (0-29) \n",
        "    #number : Number of shares to buy (float)\n",
        "\n",
        "  def CalculateNetWorth(self):\n",
        "    net_worth=self.cb + (sum([float(a)*float(b) for a,b in zip(self.arr_stocks,self.lp)]))\n",
        "    return net_worth\n",
        "    #Return Net Worth (All Shares' costs+ Balance)\n",
        "\n",
        "  def ChangePricesTo(self,newPriceVector):\n",
        "    # newPriceVector : Numpy array containing the prices of all the stocks for the current day\n",
        "    self.lp=np.copy(newPriceVector)\n",
        "\n",
        "  def ChangePairs(self,PartitionedDataFrames,today,nl):  \n",
        "    for index in range(30):\n",
        "      myPortfolio.SellStock(index)\n",
        "    indexes=[]\n",
        "    for index in range(len(nl)):\n",
        "      x,y=nl[index]\n",
        "      u=np.array(PartitionedData[0])\n",
        "      indexes.append(Switch(u[x][2],u[y][2],today,PartitionedDataFrames))\n",
        "    summ=0\n",
        "    for index in range(len(indexes)):\n",
        "      summ+=indexes[index][1]\n",
        "    for index in range(len(indexes)):\n",
        "      money=indexes[index][1]*self.cb/summ\n",
        "      myPortfolio.BuyStock(indexes[index][0],money/self.lp[indexes[index][0]])\n",
        "    # Calls the Switch function for all the pairs of stocks owned\n",
        "\n",
        "\n",
        "  \n",
        "  def RebalancePortfolio(self,today):\n",
        "    self.stock_pairs=negcorr(today)\n",
        "    # Calculates the Co-relation Matrix and changes the list of pairs, which you'll be using to trade\n",
        "    # You'll have to take care of cases, where a single stock would be involved in two or more of the most negatively co-related Stocks\n",
        "    # It would be a good idea, to call BuyStock and SellStock from here itself, instead of calling ChangePairs later as it will cause havoc that way\n",
        "    \n",
        "\n",
        "\n",
        "\n"
      ]
    },
    {
      "cell_type": "markdown",
      "metadata": {
        "id": "S2Sv0OPB6QiL"
      },
      "source": [
        "With that the difficult part is over!\n",
        "\n",
        "Now, all you need to work on is a main loop, which calls all these functions"
      ]
    },
    {
      "cell_type": "code",
      "execution_count": null,
      "metadata": {
        "id": "8qTWYyDn6mjt",
        "colab": {
          "base_uri": "https://localhost:8080/"
        },
        "outputId": "9e11d89d-d5e1-4733-d677-ec3c25f495b0"
      },
      "outputs": [
        {
          "name": "stdout",
          "output_type": "stream",
          "text": [
            "Initial Balance please100000\n"
          ]
        }
      ],
      "source": [
        "myPortfolio = PortFolio(int(input(\"Initial Balance please\")))\n",
        "NetWorthAfterEachTrade = []\n",
        "\n",
        "\n",
        "#First Get the Data\n",
        "Data = GetData(data_path)\n",
        "PartitionedData, DateToIndex= PartitionData()\n",
        "\n",
        "#\n",
        "\n",
        "\n",
        "#Start processing from the (T+1)th Day(among the ones recorded in the Data)\n",
        "for i in range(T,len(list(DateToIndex.keys()))):\n",
        "  # Change the Prices to the ith Term\n",
        "  a=np.array(PartitionedData[i]['adjcp'])\n",
        "  myPortfolio.ChangePricesTo(a)\n",
        "  # Get NetWorth and store in list\n",
        "  NetWorthAfterEachTrade.append(myPortfolio.CalculateNetWorth())\n",
        "  # Check if you need to rebalance Portfolio's Today\n",
        "  if i%T==0:\n",
        "    myPortfolio.RebalancePortfolio(i)\n",
        "  # Check if you need to switch stocks today\n",
        "  if i%P==0:\n",
        "    myPortfolio.ChangePairs(PartitionedData,i,myPortfolio.stock_pairs)\n"
      ]
    },
    {
      "cell_type": "markdown",
      "metadata": {
        "id": "kwewPN3O6yIF"
      },
      "source": [
        "You may need to declare the PartitionedData list global, depending on your implementation of the Above snippet as well as the various functions in the Portfolio class."
      ]
    },
    {
      "cell_type": "markdown",
      "metadata": {
        "id": "7JBJY3YU7M2C"
      },
      "source": [
        "##Moment of Truth\n",
        "\n",
        "Time to check, if your Program actually works!\n",
        "\n",
        "Plot the data you collected in various ways (Profits, PercentageProfits etc.) and see if what you did worked!\n",
        "\n",
        "Feel free to use whichever one of Matplotlib or Seaborn you want to.\n",
        "\n",
        "Feel free to copy-paste your code from the previous assignment!"
      ]
    },
    {
      "cell_type": "code",
      "execution_count": null,
      "metadata": {
        "id": "lPQny8RK7tmN"
      },
      "outputs": [],
      "source": [
        "def VizualizeData():\n",
        "    \n",
        "    xpoints=np.array(range(len(NetWorthAfterEachTrade[:])))\n",
        "    plt.figure(figsize=(10,5))\n",
        "    plt.plot(xpoints,NetWorthAfterEachTrade[:],color='coral')\n",
        "   \n",
        "    plt.xlabel('Dates')\n",
        "    plt.ylabel('Net Worth')\n",
        "    plt.title(\"Net Worth Vs Date\")\n",
        "    plt.show()\n",
        "\n",
        "\n",
        "\n",
        "\n",
        "\n",
        "\n",
        "\n",
        "\n",
        "  "
      ]
    },
    {
      "cell_type": "code",
      "source": [
        "VizualizeData()"
      ],
      "metadata": {
        "colab": {
          "base_uri": "https://localhost:8080/",
          "height": 350
        },
        "id": "YkwfTfzelqgn",
        "outputId": "1e232257-5cc8-489a-a3a7-c45fd46b8bc5"
      },
      "execution_count": null,
      "outputs": [
        {
          "output_type": "display_data",
          "data": {
            "text/plain": [
              "<Figure size 720x360 with 1 Axes>"
            ],
            "image/png": "[encoded data removed]"
          },
          "metadata": {
            "needs_background": "light"
          }
        }
      ]
    },
    {
      "cell_type": "markdown",
      "metadata": {
        "id": "lsAUyiuk9r6v"
      },
      "source": [
        "You may use this cell to write about your results/performance of the model!"
      ]
    }
  ],
  "metadata": {
    "colab": {
      "provenance": []
    },
    "kernelspec": {
      "display_name": "Python 3",
      "language": "python",
      "name": "python3"
    },
    "language_info": {
      "codemirror_mode": {
        "name": "ipython",
        "version": 3
      },
      "file_extension": ".py",
      "mimetype": "text/x-python",
      "name": "python",
      "nbconvert_exporter": "python",
      "pygments_lexer": "ipython3",
      "version": "3.10.4"
    },
    "vscode": {
      "interpreter": {
        "hash": "31671a60cee805c34c73116577b485118ff3a75c458d3004d49632c19702ac60"
      }
    }
  },
  "nbformat": 4,
  "nbformat_minor": 0
}